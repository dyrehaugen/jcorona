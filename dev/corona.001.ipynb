{
 "cells": [
  {
   "cell_type": "markdown",
   "metadata": {},
   "source": [
    "# Corona & Julia"
   ]
  },
  {
   "cell_type": "markdown",
   "metadata": {},
   "source": [
    "*Dyre Haugen* April, 22, 2020"
   ]
  },
  {
   "cell_type": "markdown",
   "metadata": {},
   "source": [
    "The Corona Pandemic arrived in Spain in February 2020. \n",
    "At that time I had just started looking into the Julia Programming Language.\n",
    "I can only learn new languages by practice.\n",
    "I needed some interested computation subject to test the capabilities of Julia.\n",
    "Epidemics Modelling in Julia became an obvious choice."
   ]
  },
  {
   "cell_type": "markdown",
   "metadata": {},
   "source": [
    "Johns Hopkins University Center for Systems Science and Engineering (JHU CSSE) provides worldwide current data on the epidemic at https://github.com/CSSEGISandData/COVID-19 .\n",
    "However, they discontinued the *recovered* time series. https://github.com/bumbeishvili/covid19-daily-data is an alternative source of data scraped from https://www.worldometers.info/coronavirus/ which is applied here."
   ]
  },
  {
   "cell_type": "code",
   "execution_count": 68,
   "metadata": {},
   "outputs": [],
   "source": [
    "# ~/znb/corona/corona.jl  -- downloaded from ~/znb/corona/corona.ipynb                                                         \n",
    "# 200422 002                                                                                                                   \n",
    "\n",
    "#=                                                                                                                             \n",
    "We start out by getting the data running debian/linux bash shell:                                                              \n",
    "$ clone https://github.com/bumbeishvili/covid19-daily-data                                                                     \n",
    "                                                                                                                               \n",
    "# These are the files we get:                                                                                                 \n",
    "$ ls covid19-daily-data                                                                                                        \n",
    "misc  README.md  time_series_19-covid-Confirmed.csv  time_series_19-covid-Deaths.csv  time_series_19-covid-Recovered.csv       \n",
    "                                                                                                                               \n",
    "Now we can look into the time series of confirmed cases, running Julia:                                                        \n",
    "=#\n"
   ]
  },
  {
   "cell_type": "code",
   "execution_count": 69,
   "metadata": {},
   "outputs": [
    {
     "data": {
      "text/html": [
       "<table class=\"data-frame\"><thead><tr><th></th><th>Province/State</th><th>Country/Region</th><th>Long</th><th>Lat</th><th>1/22/20</th><th>1/23/20</th></tr><tr><th></th><th>String</th><th>String</th><th>Float64</th><th>Float64</th><th>Int64</th><th>Int64</th></tr></thead><tbody><p>193 rows × 95 columns (omitted printing of 89 columns)</p><tr><th>1</th><td>Afghanistan</td><td>Afghanistan</td><td>65.0</td><td>33.0</td><td>0</td><td>0</td></tr><tr><th>2</th><td>Albania</td><td>Albania</td><td>20.1683</td><td>41.1533</td><td>0</td><td>0</td></tr><tr><th>3</th><td>Algeria</td><td>Algeria</td><td>1.6596</td><td>28.0339</td><td>0</td><td>0</td></tr><tr><th>4</th><td>Andorra</td><td>Andorra</td><td>1.5218</td><td>42.5063</td><td>0</td><td>0</td></tr><tr><th>5</th><td>Angola</td><td>Angola</td><td>17.8739</td><td>-11.2027</td><td>0</td><td>0</td></tr><tr><th>6</th><td>Antigua and Barbuda</td><td>Antigua and Barbuda</td><td>-61.7964</td><td>17.0608</td><td>0</td><td>0</td></tr><tr><th>7</th><td>Argentina</td><td>Argentina</td><td>-63.6167</td><td>-38.4161</td><td>0</td><td>0</td></tr><tr><th>8</th><td>Armenia</td><td>Armenia</td><td>45.0382</td><td>40.0691</td><td>0</td><td>0</td></tr><tr><th>9</th><td>Aruba</td><td>Aruba</td><td>-70.0358</td><td>12.5186</td><td>0</td><td>0</td></tr><tr><th>10</th><td>Australia</td><td>Australia</td><td>135.0</td><td>-24.84</td><td>0</td><td>0</td></tr><tr><th>11</th><td>Austria</td><td>Austria</td><td>14.5501</td><td>47.5162</td><td>0</td><td>0</td></tr><tr><th>12</th><td>Azerbaijan</td><td>Azerbaijan</td><td>47.5769</td><td>40.1431</td><td>0</td><td>0</td></tr><tr><th>13</th><td>Bahamas</td><td>Bahamas</td><td>-77.3963</td><td>25.0343</td><td>0</td><td>0</td></tr><tr><th>14</th><td>Bahrain</td><td>Bahrain</td><td>50.55</td><td>26.0275</td><td>0</td><td>0</td></tr><tr><th>15</th><td>Bangladesh</td><td>Bangladesh</td><td>90.3563</td><td>23.685</td><td>0</td><td>0</td></tr><tr><th>16</th><td>Barbados</td><td>Barbados</td><td>-59.5432</td><td>13.1939</td><td>0</td><td>0</td></tr><tr><th>17</th><td>Belarus</td><td>Belarus</td><td>27.9534</td><td>53.7098</td><td>0</td><td>0</td></tr><tr><th>18</th><td>Belgium</td><td>Belgium</td><td>4.0</td><td>50.8333</td><td>0</td><td>0</td></tr><tr><th>19</th><td>Benin</td><td>Benin</td><td>2.3158</td><td>9.3077</td><td>0</td><td>0</td></tr><tr><th>20</th><td>Bermuda</td><td>Bermuda</td><td>-64.7505</td><td>32.3078</td><td>0</td><td>0</td></tr><tr><th>21</th><td>Bhutan</td><td>Bhutan</td><td>90.4336</td><td>27.5142</td><td>0</td><td>0</td></tr><tr><th>22</th><td>Bolivia</td><td>Bolivia</td><td>-63.5887</td><td>-16.2902</td><td>0</td><td>0</td></tr><tr><th>23</th><td>Bosnia and Herzegovina</td><td>Bosnia and Herzegovina</td><td>17.6791</td><td>43.9159</td><td>0</td><td>0</td></tr><tr><th>24</th><td>Brazil</td><td>Brazil</td><td>-51.9253</td><td>-14.235</td><td>0</td><td>0</td></tr><tr><th>25</th><td>Brunei</td><td>Brunei</td><td>114.728</td><td>4.5353</td><td>0</td><td>0</td></tr><tr><th>26</th><td>Bulgaria</td><td>Bulgaria</td><td>25.4858</td><td>42.7339</td><td>0</td><td>0</td></tr><tr><th>27</th><td>Burkina Faso</td><td>Burkina Faso</td><td>-1.5616</td><td>12.2383</td><td>0</td><td>0</td></tr><tr><th>28</th><td>CAR</td><td>CAR</td><td>20.9394</td><td>6.6111</td><td>0</td><td>0</td></tr><tr><th>29</th><td>Cabo Verde</td><td>Cabo Verde</td><td>-23.0418</td><td>16.5388</td><td>0</td><td>0</td></tr><tr><th>30</th><td>Cambodia</td><td>Cambodia</td><td>104.917</td><td>11.55</td><td>0</td><td>0</td></tr><tr><th>&vellip;</th><td>&vellip;</td><td>&vellip;</td><td>&vellip;</td><td>&vellip;</td><td>&vellip;</td><td>&vellip;</td></tr></tbody></table>"
      ],
      "text/latex": [
       "\\begin{tabular}{r|ccccccc}\n",
       "\t& Province/State & Country/Region & Long & Lat & 1/22/20 & 1/23/20 & \\\\\n",
       "\t\\hline\n",
       "\t& String & String & Float64 & Float64 & Int64 & Int64 & \\\\\n",
       "\t\\hline\n",
       "\t1 & Afghanistan & Afghanistan & 65.0 & 33.0 & 0 & 0 & $\\dots$ \\\\\n",
       "\t2 & Albania & Albania & 20.1683 & 41.1533 & 0 & 0 & $\\dots$ \\\\\n",
       "\t3 & Algeria & Algeria & 1.6596 & 28.0339 & 0 & 0 & $\\dots$ \\\\\n",
       "\t4 & Andorra & Andorra & 1.5218 & 42.5063 & 0 & 0 & $\\dots$ \\\\\n",
       "\t5 & Angola & Angola & 17.8739 & -11.2027 & 0 & 0 & $\\dots$ \\\\\n",
       "\t6 & Antigua and Barbuda & Antigua and Barbuda & -61.7964 & 17.0608 & 0 & 0 & $\\dots$ \\\\\n",
       "\t7 & Argentina & Argentina & -63.6167 & -38.4161 & 0 & 0 & $\\dots$ \\\\\n",
       "\t8 & Armenia & Armenia & 45.0382 & 40.0691 & 0 & 0 & $\\dots$ \\\\\n",
       "\t9 & Aruba & Aruba & -70.0358 & 12.5186 & 0 & 0 & $\\dots$ \\\\\n",
       "\t10 & Australia & Australia & 135.0 & -24.84 & 0 & 0 & $\\dots$ \\\\\n",
       "\t11 & Austria & Austria & 14.5501 & 47.5162 & 0 & 0 & $\\dots$ \\\\\n",
       "\t12 & Azerbaijan & Azerbaijan & 47.5769 & 40.1431 & 0 & 0 & $\\dots$ \\\\\n",
       "\t13 & Bahamas & Bahamas & -77.3963 & 25.0343 & 0 & 0 & $\\dots$ \\\\\n",
       "\t14 & Bahrain & Bahrain & 50.55 & 26.0275 & 0 & 0 & $\\dots$ \\\\\n",
       "\t15 & Bangladesh & Bangladesh & 90.3563 & 23.685 & 0 & 0 & $\\dots$ \\\\\n",
       "\t16 & Barbados & Barbados & -59.5432 & 13.1939 & 0 & 0 & $\\dots$ \\\\\n",
       "\t17 & Belarus & Belarus & 27.9534 & 53.7098 & 0 & 0 & $\\dots$ \\\\\n",
       "\t18 & Belgium & Belgium & 4.0 & 50.8333 & 0 & 0 & $\\dots$ \\\\\n",
       "\t19 & Benin & Benin & 2.3158 & 9.3077 & 0 & 0 & $\\dots$ \\\\\n",
       "\t20 & Bermuda & Bermuda & -64.7505 & 32.3078 & 0 & 0 & $\\dots$ \\\\\n",
       "\t21 & Bhutan & Bhutan & 90.4336 & 27.5142 & 0 & 0 & $\\dots$ \\\\\n",
       "\t22 & Bolivia & Bolivia & -63.5887 & -16.2902 & 0 & 0 & $\\dots$ \\\\\n",
       "\t23 & Bosnia and Herzegovina & Bosnia and Herzegovina & 17.6791 & 43.9159 & 0 & 0 & $\\dots$ \\\\\n",
       "\t24 & Brazil & Brazil & -51.9253 & -14.235 & 0 & 0 & $\\dots$ \\\\\n",
       "\t25 & Brunei & Brunei & 114.728 & 4.5353 & 0 & 0 & $\\dots$ \\\\\n",
       "\t26 & Bulgaria & Bulgaria & 25.4858 & 42.7339 & 0 & 0 & $\\dots$ \\\\\n",
       "\t27 & Burkina Faso & Burkina Faso & -1.5616 & 12.2383 & 0 & 0 & $\\dots$ \\\\\n",
       "\t28 & CAR & CAR & 20.9394 & 6.6111 & 0 & 0 & $\\dots$ \\\\\n",
       "\t29 & Cabo Verde & Cabo Verde & -23.0418 & 16.5388 & 0 & 0 & $\\dots$ \\\\\n",
       "\t30 & Cambodia & Cambodia & 104.917 & 11.55 & 0 & 0 & $\\dots$ \\\\\n",
       "\t$\\dots$ & $\\dots$ & $\\dots$ & $\\dots$ & $\\dots$ & $\\dots$ & $\\dots$ &  \\\\\n",
       "\\end{tabular}\n"
      ],
      "text/plain": [
       "193×95 DataFrame. Omitted printing of 91 columns\n",
       "│ Row │ Province/State      │ Country/Region      │ Long     │ Lat      │\n",
       "│     │ \u001b[90mString\u001b[39m              │ \u001b[90mString\u001b[39m              │ \u001b[90mFloat64\u001b[39m  │ \u001b[90mFloat64\u001b[39m  │\n",
       "├─────┼─────────────────────┼─────────────────────┼──────────┼──────────┤\n",
       "│ 1   │ Afghanistan         │ Afghanistan         │ 65.0     │ 33.0     │\n",
       "│ 2   │ Albania             │ Albania             │ 20.1683  │ 41.1533  │\n",
       "│ 3   │ Algeria             │ Algeria             │ 1.6596   │ 28.0339  │\n",
       "│ 4   │ Andorra             │ Andorra             │ 1.5218   │ 42.5063  │\n",
       "│ 5   │ Angola              │ Angola              │ 17.8739  │ -11.2027 │\n",
       "│ 6   │ Antigua and Barbuda │ Antigua and Barbuda │ -61.7964 │ 17.0608  │\n",
       "│ 7   │ Argentina           │ Argentina           │ -63.6167 │ -38.4161 │\n",
       "│ 8   │ Armenia             │ Armenia             │ 45.0382  │ 40.0691  │\n",
       "│ 9   │ Aruba               │ Aruba               │ -70.0358 │ 12.5186  │\n",
       "│ 10  │ Australia           │ Australia           │ 135.0    │ -24.84   │\n",
       "⋮\n",
       "│ 183 │ UK                  │ UK                  │ -3.436   │ 55.3781  │\n",
       "│ 184 │ USA                 │ USA                 │ -101.25  │ 39.909   │\n",
       "│ 185 │ Uganda              │ Uganda              │ 32.0     │ 1.0      │\n",
       "│ 186 │ Ukraine             │ Ukraine             │ 31.1656  │ 48.3794  │\n",
       "│ 187 │ Uruguay             │ Uruguay             │ -55.7658 │ -32.5228 │\n",
       "│ 188 │ Uzbekistan          │ Uzbekistan          │ 64.5853  │ 41.3775  │\n",
       "│ 189 │ Vatican City        │ Vatican City        │ 12.4534  │ 41.9029  │\n",
       "│ 190 │ Venezuela           │ Venezuela           │ -66.5897 │ 6.4238   │\n",
       "│ 191 │ Vietnam             │ Vietnam             │ 108.0    │ 16.0     │\n",
       "│ 192 │ Zambia              │ Zambia              │ 28.2833  │ -15.4167 │\n",
       "│ 193 │ Zimbabwe            │ Zimbabwe            │ 30.0     │ -20.0    │"
      ]
     },
     "execution_count": 69,
     "metadata": {},
     "output_type": "execute_result"
    }
   ],
   "source": [
    "using CSV, DataFrames, Dates, Printf, Plots\n",
    "\n",
    "df_cfm_src = CSV.read(\"covid19-daily-data/time_series_19-covid-Confirmed.csv\")"
   ]
  },
  {
   "cell_type": "markdown",
   "metadata": {},
   "source": [
    "Julia only show us the upper left corner of the table. The time series start at January 22, 2020 (column 5). Every day a new column is added. I write this on April 22, so the last column in my table is '4/21/20'. The last country in the table is Zimbabwe in Row 193.\n",
    "\n",
    "To work with country cases I would like to have the transposed table.\n",
    "I have (so far) not found and easy way to transpose a dataframe.\n",
    "I want to pick out a few countries of particular interest to me - collect their time series and put them into a new dataframe with countries as columns.\n",
    "\n",
    "I start out by picking out the country names:"
   ]
  },
  {
   "cell_type": "code",
   "execution_count": 70,
   "metadata": {},
   "outputs": [
    {
     "data": {
      "text/plain": [
       "193-element WeakRefStrings.StringArray{String,1}:\n",
       " \"Afghanistan\"        \n",
       " \"Albania\"            \n",
       " \"Algeria\"            \n",
       " \"Andorra\"            \n",
       " \"Angola\"             \n",
       " \"Antigua and Barbuda\"\n",
       " \"Argentina\"          \n",
       " \"Armenia\"            \n",
       " \"Aruba\"              \n",
       " \"Australia\"          \n",
       " \"Austria\"            \n",
       " \"Azerbaijan\"         \n",
       " \"Bahamas\"            \n",
       " ⋮                    \n",
       " \"UAE\"                \n",
       " \"UK\"                 \n",
       " \"USA\"                \n",
       " \"Uganda\"             \n",
       " \"Ukraine\"            \n",
       " \"Uruguay\"            \n",
       " \"Uzbekistan\"         \n",
       " \"Vatican City\"       \n",
       " \"Venezuela\"          \n",
       " \"Vietnam\"            \n",
       " \"Zambia\"             \n",
       " \"Zimbabwe\"           "
      ]
     },
     "execution_count": 70,
     "metadata": {},
     "output_type": "execute_result"
    }
   ],
   "source": [
    "countries = df_cfm_src[:,2]"
   ]
  },
  {
   "cell_type": "code",
   "execution_count": 71,
   "metadata": {},
   "outputs": [
    {
     "data": {
      "text/plain": [
       "1×7 Array{String,2}:\n",
       " \"Argentina\"  \"Belgium\"  \"Brazil\"  \"Norway\"  \"Spain\"  \"Sweden\"  \"Thailand\""
      ]
     },
     "execution_count": 71,
     "metadata": {},
     "output_type": "execute_result"
    }
   ],
   "source": [
    "# Specify which countries to extract:\n",
    "clist  = [\"Argentina\" \"Belgium\" \"Brazil\" \"Norway\" \"Spain\" \"Sweden\" \"Thailand\"]\n"
   ]
  },
  {
   "cell_type": "code",
   "execution_count": 72,
   "metadata": {},
   "outputs": [
    {
     "data": {
      "text/html": [
       "<table class=\"data-frame\"><thead><tr><th></th><th>Argentina</th><th>Belgium</th><th>Brazil</th><th>Norway</th><th>Spain</th><th>Sweden</th><th>Thailand</th></tr><tr><th></th><th>Float64</th><th>Float64</th><th>Float64</th><th>Float64</th><th>Float64</th><th>Float64</th><th>Float64</th></tr></thead><tbody><p>91 rows × 7 columns</p><tr><th>1</th><td>0.0</td><td>0.0</td><td>0.0</td><td>0.0</td><td>0.0</td><td>0.0</td><td>2.0</td></tr><tr><th>2</th><td>0.0</td><td>0.0</td><td>0.0</td><td>0.0</td><td>0.0</td><td>0.0</td><td>3.0</td></tr><tr><th>3</th><td>0.0</td><td>0.0</td><td>0.0</td><td>0.0</td><td>0.0</td><td>0.0</td><td>5.0</td></tr><tr><th>4</th><td>0.0</td><td>0.0</td><td>0.0</td><td>0.0</td><td>0.0</td><td>0.0</td><td>7.0</td></tr><tr><th>5</th><td>0.0</td><td>0.0</td><td>0.0</td><td>0.0</td><td>0.0</td><td>0.0</td><td>8.0</td></tr><tr><th>6</th><td>0.0</td><td>0.0</td><td>0.0</td><td>0.0</td><td>0.0</td><td>0.0</td><td>8.0</td></tr><tr><th>7</th><td>0.0</td><td>0.0</td><td>0.0</td><td>0.0</td><td>0.0</td><td>0.0</td><td>14.0</td></tr><tr><th>8</th><td>0.0</td><td>0.0</td><td>0.0</td><td>0.0</td><td>0.0</td><td>0.0</td><td>14.0</td></tr><tr><th>9</th><td>0.0</td><td>0.0</td><td>0.0</td><td>0.0</td><td>0.0</td><td>0.0</td><td>14.0</td></tr><tr><th>10</th><td>0.0</td><td>0.0</td><td>0.0</td><td>0.0</td><td>0.0</td><td>1.0</td><td>19.0</td></tr><tr><th>11</th><td>0.0</td><td>0.0</td><td>0.0</td><td>0.0</td><td>1.0</td><td>1.0</td><td>19.0</td></tr><tr><th>12</th><td>0.0</td><td>0.0</td><td>0.0</td><td>0.0</td><td>1.0</td><td>1.0</td><td>19.0</td></tr><tr><th>13</th><td>0.0</td><td>0.0</td><td>0.0</td><td>0.0</td><td>1.0</td><td>1.0</td><td>19.0</td></tr><tr><th>14</th><td>0.0</td><td>1.0</td><td>0.0</td><td>0.0</td><td>1.0</td><td>1.0</td><td>25.0</td></tr><tr><th>15</th><td>0.0</td><td>1.0</td><td>0.0</td><td>0.0</td><td>1.0</td><td>1.0</td><td>25.0</td></tr><tr><th>16</th><td>0.0</td><td>1.0</td><td>0.0</td><td>0.0</td><td>1.0</td><td>1.0</td><td>25.0</td></tr><tr><th>17</th><td>0.0</td><td>1.0</td><td>0.0</td><td>0.0</td><td>1.0</td><td>1.0</td><td>25.0</td></tr><tr><th>18</th><td>0.0</td><td>1.0</td><td>0.0</td><td>0.0</td><td>1.0</td><td>1.0</td><td>32.0</td></tr><tr><th>19</th><td>0.0</td><td>1.0</td><td>0.0</td><td>0.0</td><td>2.0</td><td>1.0</td><td>32.0</td></tr><tr><th>20</th><td>0.0</td><td>1.0</td><td>0.0</td><td>0.0</td><td>2.0</td><td>1.0</td><td>32.0</td></tr><tr><th>21</th><td>0.0</td><td>1.0</td><td>0.0</td><td>0.0</td><td>2.0</td><td>1.0</td><td>33.0</td></tr><tr><th>22</th><td>0.0</td><td>1.0</td><td>0.0</td><td>0.0</td><td>2.0</td><td>1.0</td><td>33.0</td></tr><tr><th>23</th><td>0.0</td><td>1.0</td><td>0.0</td><td>0.0</td><td>2.0</td><td>1.0</td><td>33.0</td></tr><tr><th>24</th><td>0.0</td><td>1.0</td><td>0.0</td><td>0.0</td><td>2.0</td><td>1.0</td><td>33.0</td></tr><tr><th>25</th><td>0.0</td><td>1.0</td><td>0.0</td><td>0.0</td><td>2.0</td><td>1.0</td><td>33.0</td></tr><tr><th>26</th><td>0.0</td><td>1.0</td><td>0.0</td><td>0.0</td><td>2.0</td><td>1.0</td><td>34.0</td></tr><tr><th>27</th><td>0.0</td><td>1.0</td><td>0.0</td><td>0.0</td><td>2.0</td><td>1.0</td><td>35.0</td></tr><tr><th>28</th><td>0.0</td><td>1.0</td><td>0.0</td><td>0.0</td><td>2.0</td><td>1.0</td><td>35.0</td></tr><tr><th>29</th><td>0.0</td><td>1.0</td><td>0.0</td><td>0.0</td><td>2.0</td><td>1.0</td><td>35.0</td></tr><tr><th>30</th><td>0.0</td><td>1.0</td><td>0.0</td><td>0.0</td><td>2.0</td><td>1.0</td><td>35.0</td></tr><tr><th>&vellip;</th><td>&vellip;</td><td>&vellip;</td><td>&vellip;</td><td>&vellip;</td><td>&vellip;</td><td>&vellip;</td><td>&vellip;</td></tr></tbody></table>"
      ],
      "text/latex": [
       "\\begin{tabular}{r|ccccccc}\n",
       "\t& Argentina & Belgium & Brazil & Norway & Spain & Sweden & Thailand\\\\\n",
       "\t\\hline\n",
       "\t& Float64 & Float64 & Float64 & Float64 & Float64 & Float64 & Float64\\\\\n",
       "\t\\hline\n",
       "\t1 & 0.0 & 0.0 & 0.0 & 0.0 & 0.0 & 0.0 & 2.0 \\\\\n",
       "\t2 & 0.0 & 0.0 & 0.0 & 0.0 & 0.0 & 0.0 & 3.0 \\\\\n",
       "\t3 & 0.0 & 0.0 & 0.0 & 0.0 & 0.0 & 0.0 & 5.0 \\\\\n",
       "\t4 & 0.0 & 0.0 & 0.0 & 0.0 & 0.0 & 0.0 & 7.0 \\\\\n",
       "\t5 & 0.0 & 0.0 & 0.0 & 0.0 & 0.0 & 0.0 & 8.0 \\\\\n",
       "\t6 & 0.0 & 0.0 & 0.0 & 0.0 & 0.0 & 0.0 & 8.0 \\\\\n",
       "\t7 & 0.0 & 0.0 & 0.0 & 0.0 & 0.0 & 0.0 & 14.0 \\\\\n",
       "\t8 & 0.0 & 0.0 & 0.0 & 0.0 & 0.0 & 0.0 & 14.0 \\\\\n",
       "\t9 & 0.0 & 0.0 & 0.0 & 0.0 & 0.0 & 0.0 & 14.0 \\\\\n",
       "\t10 & 0.0 & 0.0 & 0.0 & 0.0 & 0.0 & 1.0 & 19.0 \\\\\n",
       "\t11 & 0.0 & 0.0 & 0.0 & 0.0 & 1.0 & 1.0 & 19.0 \\\\\n",
       "\t12 & 0.0 & 0.0 & 0.0 & 0.0 & 1.0 & 1.0 & 19.0 \\\\\n",
       "\t13 & 0.0 & 0.0 & 0.0 & 0.0 & 1.0 & 1.0 & 19.0 \\\\\n",
       "\t14 & 0.0 & 1.0 & 0.0 & 0.0 & 1.0 & 1.0 & 25.0 \\\\\n",
       "\t15 & 0.0 & 1.0 & 0.0 & 0.0 & 1.0 & 1.0 & 25.0 \\\\\n",
       "\t16 & 0.0 & 1.0 & 0.0 & 0.0 & 1.0 & 1.0 & 25.0 \\\\\n",
       "\t17 & 0.0 & 1.0 & 0.0 & 0.0 & 1.0 & 1.0 & 25.0 \\\\\n",
       "\t18 & 0.0 & 1.0 & 0.0 & 0.0 & 1.0 & 1.0 & 32.0 \\\\\n",
       "\t19 & 0.0 & 1.0 & 0.0 & 0.0 & 2.0 & 1.0 & 32.0 \\\\\n",
       "\t20 & 0.0 & 1.0 & 0.0 & 0.0 & 2.0 & 1.0 & 32.0 \\\\\n",
       "\t21 & 0.0 & 1.0 & 0.0 & 0.0 & 2.0 & 1.0 & 33.0 \\\\\n",
       "\t22 & 0.0 & 1.0 & 0.0 & 0.0 & 2.0 & 1.0 & 33.0 \\\\\n",
       "\t23 & 0.0 & 1.0 & 0.0 & 0.0 & 2.0 & 1.0 & 33.0 \\\\\n",
       "\t24 & 0.0 & 1.0 & 0.0 & 0.0 & 2.0 & 1.0 & 33.0 \\\\\n",
       "\t25 & 0.0 & 1.0 & 0.0 & 0.0 & 2.0 & 1.0 & 33.0 \\\\\n",
       "\t26 & 0.0 & 1.0 & 0.0 & 0.0 & 2.0 & 1.0 & 34.0 \\\\\n",
       "\t27 & 0.0 & 1.0 & 0.0 & 0.0 & 2.0 & 1.0 & 35.0 \\\\\n",
       "\t28 & 0.0 & 1.0 & 0.0 & 0.0 & 2.0 & 1.0 & 35.0 \\\\\n",
       "\t29 & 0.0 & 1.0 & 0.0 & 0.0 & 2.0 & 1.0 & 35.0 \\\\\n",
       "\t30 & 0.0 & 1.0 & 0.0 & 0.0 & 2.0 & 1.0 & 35.0 \\\\\n",
       "\t$\\dots$ & $\\dots$ & $\\dots$ & $\\dots$ & $\\dots$ & $\\dots$ & $\\dots$ & $\\dots$ \\\\\n",
       "\\end{tabular}\n"
      ],
      "text/plain": [
       "91×7 DataFrame. Omitted printing of 1 columns\n",
       "│ Row │ Argentina │ Belgium │ Brazil  │ Norway  │ Spain    │ Sweden  │\n",
       "│     │ \u001b[90mFloat64\u001b[39m   │ \u001b[90mFloat64\u001b[39m │ \u001b[90mFloat64\u001b[39m │ \u001b[90mFloat64\u001b[39m │ \u001b[90mFloat64\u001b[39m  │ \u001b[90mFloat64\u001b[39m │\n",
       "├─────┼───────────┼─────────┼─────────┼─────────┼──────────┼─────────┤\n",
       "│ 1   │ 0.0       │ 0.0     │ 0.0     │ 0.0     │ 0.0      │ 0.0     │\n",
       "│ 2   │ 0.0       │ 0.0     │ 0.0     │ 0.0     │ 0.0      │ 0.0     │\n",
       "│ 3   │ 0.0       │ 0.0     │ 0.0     │ 0.0     │ 0.0      │ 0.0     │\n",
       "│ 4   │ 0.0       │ 0.0     │ 0.0     │ 0.0     │ 0.0      │ 0.0     │\n",
       "│ 5   │ 0.0       │ 0.0     │ 0.0     │ 0.0     │ 0.0      │ 0.0     │\n",
       "│ 6   │ 0.0       │ 0.0     │ 0.0     │ 0.0     │ 0.0      │ 0.0     │\n",
       "│ 7   │ 0.0       │ 0.0     │ 0.0     │ 0.0     │ 0.0      │ 0.0     │\n",
       "│ 8   │ 0.0       │ 0.0     │ 0.0     │ 0.0     │ 0.0      │ 0.0     │\n",
       "│ 9   │ 0.0       │ 0.0     │ 0.0     │ 0.0     │ 0.0      │ 0.0     │\n",
       "│ 10  │ 0.0       │ 0.0     │ 0.0     │ 0.0     │ 0.0      │ 1.0     │\n",
       "⋮\n",
       "│ 81  │ 2142.0    │ 28018.0 │ 20962.0 │ 6409.0  │ 163027.0 │ 10151.0 │\n",
       "│ 82  │ 2142.0    │ 29647.0 │ 22192.0 │ 6525.0  │ 166831.0 │ 10483.0 │\n",
       "│ 83  │ 2277.0    │ 30589.0 │ 23430.0 │ 6603.0  │ 170099.0 │ 10948.0 │\n",
       "│ 84  │ 2277.0    │ 31119.0 │ 25262.0 │ 6623.0  │ 174060.0 │ 11445.0 │\n",
       "│ 85  │ 2571.0    │ 33573.0 │ 28610.0 │ 6797.0  │ 180659.0 │ 11927.0 │\n",
       "│ 86  │ 2669.0    │ 34809.0 │ 30683.0 │ 6905.0  │ 184948.0 │ 12540.0 │\n",
       "│ 87  │ 2669.0    │ 36138.0 │ 33682.0 │ 6937.0  │ 190839.0 │ 13216.0 │\n",
       "│ 88  │ 2839.0    │ 37183.0 │ 36722.0 │ 7036.0  │ 194416.0 │ 13822.0 │\n",
       "│ 89  │ 2941.0    │ 38496.0 │ 38654.0 │ 7078.0  │ 198674.0 │ 14385.0 │\n",
       "│ 90  │ 3031.0    │ 39983.0 │ 40743.0 │ 7156.0  │ 200210.0 │ 14777.0 │\n",
       "│ 91  │ 3144.0    │ 40956.0 │ 43079.0 │ 7241.0  │ 204178.0 │ 15322.0 │"
      ]
     },
     "execution_count": 72,
     "metadata": {},
     "output_type": "execute_result"
    }
   ],
   "source": [
    "# Extracting the epidemic data:\n",
    "cindx = Array{Int64}(undef, length(clist))\n",
    "cfm   = zeros(size(df_cfm_src)[2]-4, length(clist)); # Data starts in column 4\n",
    "for i in 1:length(clist)\n",
    "    indx = findall(x->x==clist[i], df_cfm_src[:,2])  \n",
    "    cfm[:,i] = convert(Array, df_cfm_src[indx,5:end])\n",
    "end\n",
    "df_cfm = DataFrame(cfm)\n",
    "for i in 1:length(clist)\n",
    "     rename!(df_cfm, names(df_cfm)[i] => Symbol(clist[i])); \n",
    "end                  \n",
    "df_cfm\n"
   ]
  },
  {
   "cell_type": "markdown",
   "metadata": {},
   "source": [
    "Now Julia does not seem to be happy with the Date Format like '1/22/20'.  I need to reformat the dates to YYYY-MM-DD."
   ]
  },
  {
   "cell_type": "code",
   "execution_count": 73,
   "metadata": {},
   "outputs": [
    {
     "data": {
      "text/html": [
       "<table class=\"data-frame\"><thead><tr><th></th><th>Date</th></tr><tr><th></th><th>Date</th></tr></thead><tbody><p>91 rows × 1 columns</p><tr><th>1</th><td>2020-01-22</td></tr><tr><th>2</th><td>2020-01-23</td></tr><tr><th>3</th><td>2020-01-24</td></tr><tr><th>4</th><td>2020-01-25</td></tr><tr><th>5</th><td>2020-01-26</td></tr><tr><th>6</th><td>2020-01-27</td></tr><tr><th>7</th><td>2020-01-28</td></tr><tr><th>8</th><td>2020-01-29</td></tr><tr><th>9</th><td>2020-01-30</td></tr><tr><th>10</th><td>2020-01-31</td></tr><tr><th>11</th><td>2020-02-01</td></tr><tr><th>12</th><td>2020-02-02</td></tr><tr><th>13</th><td>2020-02-03</td></tr><tr><th>14</th><td>2020-02-04</td></tr><tr><th>15</th><td>2020-02-05</td></tr><tr><th>16</th><td>2020-02-06</td></tr><tr><th>17</th><td>2020-02-07</td></tr><tr><th>18</th><td>2020-02-08</td></tr><tr><th>19</th><td>2020-02-09</td></tr><tr><th>20</th><td>2020-02-10</td></tr><tr><th>21</th><td>2020-02-11</td></tr><tr><th>22</th><td>2020-02-12</td></tr><tr><th>23</th><td>2020-02-13</td></tr><tr><th>24</th><td>2020-02-14</td></tr><tr><th>25</th><td>2020-02-15</td></tr><tr><th>26</th><td>2020-02-16</td></tr><tr><th>27</th><td>2020-02-17</td></tr><tr><th>28</th><td>2020-02-18</td></tr><tr><th>29</th><td>2020-02-19</td></tr><tr><th>30</th><td>2020-02-20</td></tr><tr><th>&vellip;</th><td>&vellip;</td></tr></tbody></table>"
      ],
      "text/latex": [
       "\\begin{tabular}{r|c}\n",
       "\t& Date\\\\\n",
       "\t\\hline\n",
       "\t& Date\\\\\n",
       "\t\\hline\n",
       "\t1 & 2020-01-22 \\\\\n",
       "\t2 & 2020-01-23 \\\\\n",
       "\t3 & 2020-01-24 \\\\\n",
       "\t4 & 2020-01-25 \\\\\n",
       "\t5 & 2020-01-26 \\\\\n",
       "\t6 & 2020-01-27 \\\\\n",
       "\t7 & 2020-01-28 \\\\\n",
       "\t8 & 2020-01-29 \\\\\n",
       "\t9 & 2020-01-30 \\\\\n",
       "\t10 & 2020-01-31 \\\\\n",
       "\t11 & 2020-02-01 \\\\\n",
       "\t12 & 2020-02-02 \\\\\n",
       "\t13 & 2020-02-03 \\\\\n",
       "\t14 & 2020-02-04 \\\\\n",
       "\t15 & 2020-02-05 \\\\\n",
       "\t16 & 2020-02-06 \\\\\n",
       "\t17 & 2020-02-07 \\\\\n",
       "\t18 & 2020-02-08 \\\\\n",
       "\t19 & 2020-02-09 \\\\\n",
       "\t20 & 2020-02-10 \\\\\n",
       "\t21 & 2020-02-11 \\\\\n",
       "\t22 & 2020-02-12 \\\\\n",
       "\t23 & 2020-02-13 \\\\\n",
       "\t24 & 2020-02-14 \\\\\n",
       "\t25 & 2020-02-15 \\\\\n",
       "\t26 & 2020-02-16 \\\\\n",
       "\t27 & 2020-02-17 \\\\\n",
       "\t28 & 2020-02-18 \\\\\n",
       "\t29 & 2020-02-19 \\\\\n",
       "\t30 & 2020-02-20 \\\\\n",
       "\t$\\dots$ & $\\dots$ \\\\\n",
       "\\end{tabular}\n"
      ],
      "text/plain": [
       "91×1 DataFrame\n",
       "│ Row │ Date       │\n",
       "│     │ \u001b[90mDate\u001b[39m       │\n",
       "├─────┼────────────┤\n",
       "│ 1   │ 2020-01-22 │\n",
       "│ 2   │ 2020-01-23 │\n",
       "│ 3   │ 2020-01-24 │\n",
       "│ 4   │ 2020-01-25 │\n",
       "│ 5   │ 2020-01-26 │\n",
       "│ 6   │ 2020-01-27 │\n",
       "│ 7   │ 2020-01-28 │\n",
       "│ 8   │ 2020-01-29 │\n",
       "│ 9   │ 2020-01-30 │\n",
       "│ 10  │ 2020-01-31 │\n",
       "⋮\n",
       "│ 81  │ 2020-04-11 │\n",
       "│ 82  │ 2020-04-12 │\n",
       "│ 83  │ 2020-04-13 │\n",
       "│ 84  │ 2020-04-14 │\n",
       "│ 85  │ 2020-04-15 │\n",
       "│ 86  │ 2020-04-16 │\n",
       "│ 87  │ 2020-04-17 │\n",
       "│ 88  │ 2020-04-18 │\n",
       "│ 89  │ 2020-04-19 │\n",
       "│ 90  │ 2020-04-20 │\n",
       "│ 91  │ 2020-04-21 │"
      ]
     },
     "execution_count": 73,
     "metadata": {},
     "output_type": "execute_result"
    }
   ],
   "source": [
    "# Converting the Dates:\n",
    "colstring = Array{Union{Nothing, String}}(nothing, length(names(df_cfm_src))-4,2)\n",
    "coldates  = Array{Date,length(names(df_cfm_src))-4}\n",
    "for i in 1:length(names(df_cfm_src))-4 colstring[i,1] = String(names(df_cfm_src)[i+4])*\"20\" end #  adding 20 to get 2020  \n",
    "colstring2=colstring\n",
    "for i=1:length(colstring[:,1]) colstring2[i,1]=replace(colstring[i,1], \"/\" => \"-\") end\n",
    "coldates=Date.(colstring2[:,1], Dates.DateFormat(\"mm-dd-yyyy\"))\n",
    "df_00 = DataFrame([coldates])\n",
    "rename!(df_00, :x1 => :Date)"
   ]
  },
  {
   "cell_type": "code",
   "execution_count": 74,
   "metadata": {},
   "outputs": [
    {
     "data": {
      "text/html": [
       "<table class=\"data-frame\"><thead><tr><th></th><th>Date</th><th>Argentina</th><th>Belgium</th><th>Brazil</th><th>Norway</th><th>Spain</th><th>Sweden</th><th>Thailand</th></tr><tr><th></th><th>Date</th><th>Float64</th><th>Float64</th><th>Float64</th><th>Float64</th><th>Float64</th><th>Float64</th><th>Float64</th></tr></thead><tbody><p>91 rows × 8 columns</p><tr><th>1</th><td>2020-01-22</td><td>0.0</td><td>0.0</td><td>0.0</td><td>0.0</td><td>0.0</td><td>0.0</td><td>2.0</td></tr><tr><th>2</th><td>2020-01-23</td><td>0.0</td><td>0.0</td><td>0.0</td><td>0.0</td><td>0.0</td><td>0.0</td><td>3.0</td></tr><tr><th>3</th><td>2020-01-24</td><td>0.0</td><td>0.0</td><td>0.0</td><td>0.0</td><td>0.0</td><td>0.0</td><td>5.0</td></tr><tr><th>4</th><td>2020-01-25</td><td>0.0</td><td>0.0</td><td>0.0</td><td>0.0</td><td>0.0</td><td>0.0</td><td>7.0</td></tr><tr><th>5</th><td>2020-01-26</td><td>0.0</td><td>0.0</td><td>0.0</td><td>0.0</td><td>0.0</td><td>0.0</td><td>8.0</td></tr><tr><th>6</th><td>2020-01-27</td><td>0.0</td><td>0.0</td><td>0.0</td><td>0.0</td><td>0.0</td><td>0.0</td><td>8.0</td></tr><tr><th>7</th><td>2020-01-28</td><td>0.0</td><td>0.0</td><td>0.0</td><td>0.0</td><td>0.0</td><td>0.0</td><td>14.0</td></tr><tr><th>8</th><td>2020-01-29</td><td>0.0</td><td>0.0</td><td>0.0</td><td>0.0</td><td>0.0</td><td>0.0</td><td>14.0</td></tr><tr><th>9</th><td>2020-01-30</td><td>0.0</td><td>0.0</td><td>0.0</td><td>0.0</td><td>0.0</td><td>0.0</td><td>14.0</td></tr><tr><th>10</th><td>2020-01-31</td><td>0.0</td><td>0.0</td><td>0.0</td><td>0.0</td><td>0.0</td><td>1.0</td><td>19.0</td></tr><tr><th>11</th><td>2020-02-01</td><td>0.0</td><td>0.0</td><td>0.0</td><td>0.0</td><td>1.0</td><td>1.0</td><td>19.0</td></tr><tr><th>12</th><td>2020-02-02</td><td>0.0</td><td>0.0</td><td>0.0</td><td>0.0</td><td>1.0</td><td>1.0</td><td>19.0</td></tr><tr><th>13</th><td>2020-02-03</td><td>0.0</td><td>0.0</td><td>0.0</td><td>0.0</td><td>1.0</td><td>1.0</td><td>19.0</td></tr><tr><th>14</th><td>2020-02-04</td><td>0.0</td><td>1.0</td><td>0.0</td><td>0.0</td><td>1.0</td><td>1.0</td><td>25.0</td></tr><tr><th>15</th><td>2020-02-05</td><td>0.0</td><td>1.0</td><td>0.0</td><td>0.0</td><td>1.0</td><td>1.0</td><td>25.0</td></tr><tr><th>16</th><td>2020-02-06</td><td>0.0</td><td>1.0</td><td>0.0</td><td>0.0</td><td>1.0</td><td>1.0</td><td>25.0</td></tr><tr><th>17</th><td>2020-02-07</td><td>0.0</td><td>1.0</td><td>0.0</td><td>0.0</td><td>1.0</td><td>1.0</td><td>25.0</td></tr><tr><th>18</th><td>2020-02-08</td><td>0.0</td><td>1.0</td><td>0.0</td><td>0.0</td><td>1.0</td><td>1.0</td><td>32.0</td></tr><tr><th>19</th><td>2020-02-09</td><td>0.0</td><td>1.0</td><td>0.0</td><td>0.0</td><td>2.0</td><td>1.0</td><td>32.0</td></tr><tr><th>20</th><td>2020-02-10</td><td>0.0</td><td>1.0</td><td>0.0</td><td>0.0</td><td>2.0</td><td>1.0</td><td>32.0</td></tr><tr><th>21</th><td>2020-02-11</td><td>0.0</td><td>1.0</td><td>0.0</td><td>0.0</td><td>2.0</td><td>1.0</td><td>33.0</td></tr><tr><th>22</th><td>2020-02-12</td><td>0.0</td><td>1.0</td><td>0.0</td><td>0.0</td><td>2.0</td><td>1.0</td><td>33.0</td></tr><tr><th>23</th><td>2020-02-13</td><td>0.0</td><td>1.0</td><td>0.0</td><td>0.0</td><td>2.0</td><td>1.0</td><td>33.0</td></tr><tr><th>24</th><td>2020-02-14</td><td>0.0</td><td>1.0</td><td>0.0</td><td>0.0</td><td>2.0</td><td>1.0</td><td>33.0</td></tr><tr><th>25</th><td>2020-02-15</td><td>0.0</td><td>1.0</td><td>0.0</td><td>0.0</td><td>2.0</td><td>1.0</td><td>33.0</td></tr><tr><th>26</th><td>2020-02-16</td><td>0.0</td><td>1.0</td><td>0.0</td><td>0.0</td><td>2.0</td><td>1.0</td><td>34.0</td></tr><tr><th>27</th><td>2020-02-17</td><td>0.0</td><td>1.0</td><td>0.0</td><td>0.0</td><td>2.0</td><td>1.0</td><td>35.0</td></tr><tr><th>28</th><td>2020-02-18</td><td>0.0</td><td>1.0</td><td>0.0</td><td>0.0</td><td>2.0</td><td>1.0</td><td>35.0</td></tr><tr><th>29</th><td>2020-02-19</td><td>0.0</td><td>1.0</td><td>0.0</td><td>0.0</td><td>2.0</td><td>1.0</td><td>35.0</td></tr><tr><th>30</th><td>2020-02-20</td><td>0.0</td><td>1.0</td><td>0.0</td><td>0.0</td><td>2.0</td><td>1.0</td><td>35.0</td></tr><tr><th>&vellip;</th><td>&vellip;</td><td>&vellip;</td><td>&vellip;</td><td>&vellip;</td><td>&vellip;</td><td>&vellip;</td><td>&vellip;</td><td>&vellip;</td></tr></tbody></table>"
      ],
      "text/latex": [
       "\\begin{tabular}{r|cccccccc}\n",
       "\t& Date & Argentina & Belgium & Brazil & Norway & Spain & Sweden & Thailand\\\\\n",
       "\t\\hline\n",
       "\t& Date & Float64 & Float64 & Float64 & Float64 & Float64 & Float64 & Float64\\\\\n",
       "\t\\hline\n",
       "\t1 & 2020-01-22 & 0.0 & 0.0 & 0.0 & 0.0 & 0.0 & 0.0 & 2.0 \\\\\n",
       "\t2 & 2020-01-23 & 0.0 & 0.0 & 0.0 & 0.0 & 0.0 & 0.0 & 3.0 \\\\\n",
       "\t3 & 2020-01-24 & 0.0 & 0.0 & 0.0 & 0.0 & 0.0 & 0.0 & 5.0 \\\\\n",
       "\t4 & 2020-01-25 & 0.0 & 0.0 & 0.0 & 0.0 & 0.0 & 0.0 & 7.0 \\\\\n",
       "\t5 & 2020-01-26 & 0.0 & 0.0 & 0.0 & 0.0 & 0.0 & 0.0 & 8.0 \\\\\n",
       "\t6 & 2020-01-27 & 0.0 & 0.0 & 0.0 & 0.0 & 0.0 & 0.0 & 8.0 \\\\\n",
       "\t7 & 2020-01-28 & 0.0 & 0.0 & 0.0 & 0.0 & 0.0 & 0.0 & 14.0 \\\\\n",
       "\t8 & 2020-01-29 & 0.0 & 0.0 & 0.0 & 0.0 & 0.0 & 0.0 & 14.0 \\\\\n",
       "\t9 & 2020-01-30 & 0.0 & 0.0 & 0.0 & 0.0 & 0.0 & 0.0 & 14.0 \\\\\n",
       "\t10 & 2020-01-31 & 0.0 & 0.0 & 0.0 & 0.0 & 0.0 & 1.0 & 19.0 \\\\\n",
       "\t11 & 2020-02-01 & 0.0 & 0.0 & 0.0 & 0.0 & 1.0 & 1.0 & 19.0 \\\\\n",
       "\t12 & 2020-02-02 & 0.0 & 0.0 & 0.0 & 0.0 & 1.0 & 1.0 & 19.0 \\\\\n",
       "\t13 & 2020-02-03 & 0.0 & 0.0 & 0.0 & 0.0 & 1.0 & 1.0 & 19.0 \\\\\n",
       "\t14 & 2020-02-04 & 0.0 & 1.0 & 0.0 & 0.0 & 1.0 & 1.0 & 25.0 \\\\\n",
       "\t15 & 2020-02-05 & 0.0 & 1.0 & 0.0 & 0.0 & 1.0 & 1.0 & 25.0 \\\\\n",
       "\t16 & 2020-02-06 & 0.0 & 1.0 & 0.0 & 0.0 & 1.0 & 1.0 & 25.0 \\\\\n",
       "\t17 & 2020-02-07 & 0.0 & 1.0 & 0.0 & 0.0 & 1.0 & 1.0 & 25.0 \\\\\n",
       "\t18 & 2020-02-08 & 0.0 & 1.0 & 0.0 & 0.0 & 1.0 & 1.0 & 32.0 \\\\\n",
       "\t19 & 2020-02-09 & 0.0 & 1.0 & 0.0 & 0.0 & 2.0 & 1.0 & 32.0 \\\\\n",
       "\t20 & 2020-02-10 & 0.0 & 1.0 & 0.0 & 0.0 & 2.0 & 1.0 & 32.0 \\\\\n",
       "\t21 & 2020-02-11 & 0.0 & 1.0 & 0.0 & 0.0 & 2.0 & 1.0 & 33.0 \\\\\n",
       "\t22 & 2020-02-12 & 0.0 & 1.0 & 0.0 & 0.0 & 2.0 & 1.0 & 33.0 \\\\\n",
       "\t23 & 2020-02-13 & 0.0 & 1.0 & 0.0 & 0.0 & 2.0 & 1.0 & 33.0 \\\\\n",
       "\t24 & 2020-02-14 & 0.0 & 1.0 & 0.0 & 0.0 & 2.0 & 1.0 & 33.0 \\\\\n",
       "\t25 & 2020-02-15 & 0.0 & 1.0 & 0.0 & 0.0 & 2.0 & 1.0 & 33.0 \\\\\n",
       "\t26 & 2020-02-16 & 0.0 & 1.0 & 0.0 & 0.0 & 2.0 & 1.0 & 34.0 \\\\\n",
       "\t27 & 2020-02-17 & 0.0 & 1.0 & 0.0 & 0.0 & 2.0 & 1.0 & 35.0 \\\\\n",
       "\t28 & 2020-02-18 & 0.0 & 1.0 & 0.0 & 0.0 & 2.0 & 1.0 & 35.0 \\\\\n",
       "\t29 & 2020-02-19 & 0.0 & 1.0 & 0.0 & 0.0 & 2.0 & 1.0 & 35.0 \\\\\n",
       "\t30 & 2020-02-20 & 0.0 & 1.0 & 0.0 & 0.0 & 2.0 & 1.0 & 35.0 \\\\\n",
       "\t$\\dots$ & $\\dots$ & $\\dots$ & $\\dots$ & $\\dots$ & $\\dots$ & $\\dots$ & $\\dots$ & $\\dots$ \\\\\n",
       "\\end{tabular}\n"
      ],
      "text/plain": [
       "91×8 DataFrame. Omitted printing of 2 columns\n",
       "│ Row │ Date       │ Argentina │ Belgium │ Brazil  │ Norway  │ Spain    │\n",
       "│     │ \u001b[90mDate\u001b[39m       │ \u001b[90mFloat64\u001b[39m   │ \u001b[90mFloat64\u001b[39m │ \u001b[90mFloat64\u001b[39m │ \u001b[90mFloat64\u001b[39m │ \u001b[90mFloat64\u001b[39m  │\n",
       "├─────┼────────────┼───────────┼─────────┼─────────┼─────────┼──────────┤\n",
       "│ 1   │ 2020-01-22 │ 0.0       │ 0.0     │ 0.0     │ 0.0     │ 0.0      │\n",
       "│ 2   │ 2020-01-23 │ 0.0       │ 0.0     │ 0.0     │ 0.0     │ 0.0      │\n",
       "│ 3   │ 2020-01-24 │ 0.0       │ 0.0     │ 0.0     │ 0.0     │ 0.0      │\n",
       "│ 4   │ 2020-01-25 │ 0.0       │ 0.0     │ 0.0     │ 0.0     │ 0.0      │\n",
       "│ 5   │ 2020-01-26 │ 0.0       │ 0.0     │ 0.0     │ 0.0     │ 0.0      │\n",
       "│ 6   │ 2020-01-27 │ 0.0       │ 0.0     │ 0.0     │ 0.0     │ 0.0      │\n",
       "│ 7   │ 2020-01-28 │ 0.0       │ 0.0     │ 0.0     │ 0.0     │ 0.0      │\n",
       "│ 8   │ 2020-01-29 │ 0.0       │ 0.0     │ 0.0     │ 0.0     │ 0.0      │\n",
       "│ 9   │ 2020-01-30 │ 0.0       │ 0.0     │ 0.0     │ 0.0     │ 0.0      │\n",
       "│ 10  │ 2020-01-31 │ 0.0       │ 0.0     │ 0.0     │ 0.0     │ 0.0      │\n",
       "⋮\n",
       "│ 81  │ 2020-04-11 │ 2142.0    │ 28018.0 │ 20962.0 │ 6409.0  │ 163027.0 │\n",
       "│ 82  │ 2020-04-12 │ 2142.0    │ 29647.0 │ 22192.0 │ 6525.0  │ 166831.0 │\n",
       "│ 83  │ 2020-04-13 │ 2277.0    │ 30589.0 │ 23430.0 │ 6603.0  │ 170099.0 │\n",
       "│ 84  │ 2020-04-14 │ 2277.0    │ 31119.0 │ 25262.0 │ 6623.0  │ 174060.0 │\n",
       "│ 85  │ 2020-04-15 │ 2571.0    │ 33573.0 │ 28610.0 │ 6797.0  │ 180659.0 │\n",
       "│ 86  │ 2020-04-16 │ 2669.0    │ 34809.0 │ 30683.0 │ 6905.0  │ 184948.0 │\n",
       "│ 87  │ 2020-04-17 │ 2669.0    │ 36138.0 │ 33682.0 │ 6937.0  │ 190839.0 │\n",
       "│ 88  │ 2020-04-18 │ 2839.0    │ 37183.0 │ 36722.0 │ 7036.0  │ 194416.0 │\n",
       "│ 89  │ 2020-04-19 │ 2941.0    │ 38496.0 │ 38654.0 │ 7078.0  │ 198674.0 │\n",
       "│ 90  │ 2020-04-20 │ 3031.0    │ 39983.0 │ 40743.0 │ 7156.0  │ 200210.0 │\n",
       "│ 91  │ 2020-04-21 │ 3144.0    │ 40956.0 │ 43079.0 │ 7241.0  │ 204178.0 │"
      ]
     },
     "execution_count": 74,
     "metadata": {},
     "output_type": "execute_result"
    }
   ],
   "source": [
    "# Joining Dates and Data:\n",
    "df_cfm = hcat(df_00, df_cfm)"
   ]
  },
  {
   "cell_type": "markdown",
   "metadata": {},
   "source": [
    "We now store this dataframe:"
   ]
  },
  {
   "cell_type": "code",
   "execution_count": 75,
   "metadata": {},
   "outputs": [
    {
     "data": {
      "text/plain": [
       "\"df_cfm.csv\""
      ]
     },
     "execution_count": 75,
     "metadata": {},
     "output_type": "execute_result"
    }
   ],
   "source": [
    "CSV.write(\"df_cfm.csv\", df_cfm)"
   ]
  },
  {
   "cell_type": "markdown",
   "metadata": {},
   "source": [
    "To see what I have got so far I will plot the data - and save the figure:"
   ]
  },
  {
   "cell_type": "code",
   "execution_count": 76,
   "metadata": {
    "scrolled": true
   },
   "outputs": [
    {
     "data": {
      "image/svg+xml": [
       "<?xml version=\"1.0\" encoding=\"utf-8\"?>\n",
       "<svg xmlns=\"http://www.w3.org/2000/svg\" xmlns:xlink=\"http://www.w3.org/1999/xlink\" width=\"600\" height=\"400\" viewBox=\"0 0 2400 1600\">\n",
       "<defs>\n",
       "  <clipPath id=\"clip7500\">\n",
       "    <rect x=\"0\" y=\"0\" width=\"2400\" height=\"1600\"/>\n",
       "  </clipPath>\n",
       "</defs>\n",
       "<path clip-path=\"url(#clip7500)\" d=\"\n",
       "M0 1600 L2400 1600 L2400 0 L0 0  Z\n",
       "  \" fill=\"#ffffff\" fill-rule=\"evenodd\" fill-opacity=\"1\"/>\n",
       "<defs>\n",
       "  <clipPath id=\"clip7501\">\n",
       "    <rect x=\"480\" y=\"0\" width=\"1681\" height=\"1600\"/>\n",
       "  </clipPath>\n",
       "</defs>\n",
       "<path clip-path=\"url(#clip7500)\" d=\"\n",
       "M301.332 1307.26 L1858.74 1307.26 L1858.74 183.952 L301.332 183.952  Z\n",
       "  \" fill=\"#ffffff\" fill-rule=\"evenodd\" fill-opacity=\"1\"/>\n",
       "<defs>\n",
       "  <clipPath id=\"clip7502\">\n",
       "    <rect x=\"301\" y=\"183\" width=\"1558\" height=\"1124\"/>\n",
       "  </clipPath>\n",
       "</defs>\n",
       "<polyline clip-path=\"url(#clip7502)\" style=\"stroke:#000000; stroke-width:2; stroke-opacity:0.1; fill:none\" points=\"\n",
       "  508.66,1307.26 508.66,183.952 \n",
       "  \"/>\n",
       "<polyline clip-path=\"url(#clip7502)\" style=\"stroke:#000000; stroke-width:2; stroke-opacity:0.1; fill:none\" points=\"\n",
       "  982.087,1307.26 982.087,183.952 \n",
       "  \"/>\n",
       "<polyline clip-path=\"url(#clip7502)\" style=\"stroke:#000000; stroke-width:2; stroke-opacity:0.1; fill:none\" points=\"\n",
       "  1488.16,1307.26 1488.16,183.952 \n",
       "  \"/>\n",
       "<polyline clip-path=\"url(#clip7502)\" style=\"stroke:#000000; stroke-width:2; stroke-opacity:0.1; fill:none\" points=\"\n",
       "  301.332,1275.47 1858.74,1275.47 \n",
       "  \"/>\n",
       "<polyline clip-path=\"url(#clip7502)\" style=\"stroke:#000000; stroke-width:2; stroke-opacity:0.1; fill:none\" points=\"\n",
       "  301.332,1015.96 1858.74,1015.96 \n",
       "  \"/>\n",
       "<polyline clip-path=\"url(#clip7502)\" style=\"stroke:#000000; stroke-width:2; stroke-opacity:0.1; fill:none\" points=\"\n",
       "  301.332,756.449 1858.74,756.449 \n",
       "  \"/>\n",
       "<polyline clip-path=\"url(#clip7502)\" style=\"stroke:#000000; stroke-width:2; stroke-opacity:0.1; fill:none\" points=\"\n",
       "  301.332,496.939 1858.74,496.939 \n",
       "  \"/>\n",
       "<polyline clip-path=\"url(#clip7502)\" style=\"stroke:#000000; stroke-width:2; stroke-opacity:0.1; fill:none\" points=\"\n",
       "  301.332,237.429 1858.74,237.429 \n",
       "  \"/>\n",
       "<polyline clip-path=\"url(#clip7500)\" style=\"stroke:#000000; stroke-width:4; stroke-opacity:1; fill:none\" points=\"\n",
       "  301.332,1307.26 1858.74,1307.26 \n",
       "  \"/>\n",
       "<polyline clip-path=\"url(#clip7500)\" style=\"stroke:#000000; stroke-width:4; stroke-opacity:1; fill:none\" points=\"\n",
       "  301.332,1307.26 301.332,183.952 \n",
       "  \"/>\n",
       "<polyline clip-path=\"url(#clip7500)\" style=\"stroke:#000000; stroke-width:4; stroke-opacity:1; fill:none\" points=\"\n",
       "  508.66,1307.26 508.66,1293.78 \n",
       "  \"/>\n",
       "<polyline clip-path=\"url(#clip7500)\" style=\"stroke:#000000; stroke-width:4; stroke-opacity:1; fill:none\" points=\"\n",
       "  982.087,1307.26 982.087,1293.78 \n",
       "  \"/>\n",
       "<polyline clip-path=\"url(#clip7500)\" style=\"stroke:#000000; stroke-width:4; stroke-opacity:1; fill:none\" points=\"\n",
       "  1488.16,1307.26 1488.16,1293.78 \n",
       "  \"/>\n",
       "<polyline clip-path=\"url(#clip7500)\" style=\"stroke:#000000; stroke-width:4; stroke-opacity:1; fill:none\" points=\"\n",
       "  301.332,1275.47 320.02,1275.47 \n",
       "  \"/>\n",
       "<polyline clip-path=\"url(#clip7500)\" style=\"stroke:#000000; stroke-width:4; stroke-opacity:1; fill:none\" points=\"\n",
       "  301.332,1015.96 320.02,1015.96 \n",
       "  \"/>\n",
       "<polyline clip-path=\"url(#clip7500)\" style=\"stroke:#000000; stroke-width:4; stroke-opacity:1; fill:none\" points=\"\n",
       "  301.332,756.449 320.02,756.449 \n",
       "  \"/>\n",
       "<polyline clip-path=\"url(#clip7500)\" style=\"stroke:#000000; stroke-width:4; stroke-opacity:1; fill:none\" points=\"\n",
       "  301.332,496.939 320.02,496.939 \n",
       "  \"/>\n",
       "<polyline clip-path=\"url(#clip7500)\" style=\"stroke:#000000; stroke-width:4; stroke-opacity:1; fill:none\" points=\"\n",
       "  301.332,237.429 320.02,237.429 \n",
       "  \"/>\n",
       "<g clip-path=\"url(#clip7500)\">\n",
       "<text style=\"fill:#000000; fill-opacity:1; font-family:Arial,Helvetica Neue,Helvetica,sans-serif; font-size:48px; text-anchor:end;\" transform=\"rotate(-45, 538.358, 1348.96)\" x=\"538.358\" y=\"1348.96\">2020-02-01</text>\n",
       "</g>\n",
       "<g clip-path=\"url(#clip7500)\">\n",
       "<text style=\"fill:#000000; fill-opacity:1; font-family:Arial,Helvetica Neue,Helvetica,sans-serif; font-size:48px; text-anchor:end;\" transform=\"rotate(-45, 1011.79, 1348.96)\" x=\"1011.79\" y=\"1348.96\">2020-03-01</text>\n",
       "</g>\n",
       "<g clip-path=\"url(#clip7500)\">\n",
       "<text style=\"fill:#000000; fill-opacity:1; font-family:Arial,Helvetica Neue,Helvetica,sans-serif; font-size:48px; text-anchor:end;\" transform=\"rotate(-45, 1517.86, 1348.96)\" x=\"1517.86\" y=\"1348.96\">2020-04-01</text>\n",
       "</g>\n",
       "<g clip-path=\"url(#clip7500)\">\n",
       "<text style=\"fill:#000000; fill-opacity:1; font-family:Arial,Helvetica Neue,Helvetica,sans-serif; font-size:48px; text-anchor:end;\" transform=\"rotate(0, 277.332, 1292.97)\" x=\"277.332\" y=\"1292.97\">0</text>\n",
       "</g>\n",
       "<g clip-path=\"url(#clip7500)\">\n",
       "<text style=\"fill:#000000; fill-opacity:1; font-family:Arial,Helvetica Neue,Helvetica,sans-serif; font-size:48px; text-anchor:start;\" transform=\"rotate(0, 107.046, 1039.69)\" x=\"107.046\" y=\"1039.69\">5.0×10</text>\n",
       "</g>\n",
       "<g clip-path=\"url(#clip7500)\">\n",
       "<text style=\"fill:#000000; fill-opacity:1; font-family:Arial,Helvetica Neue,Helvetica,sans-serif; font-size:38px; text-anchor:start;\" transform=\"rotate(0, 255.587, 1012.28)\" x=\"255.587\" y=\"1012.28\">4</text>\n",
       "</g>\n",
       "<g clip-path=\"url(#clip7500)\">\n",
       "<text style=\"fill:#000000; fill-opacity:1; font-family:Arial,Helvetica Neue,Helvetica,sans-serif; font-size:48px; text-anchor:start;\" transform=\"rotate(0, 107.046, 780.177)\" x=\"107.046\" y=\"780.177\">1.0×10</text>\n",
       "</g>\n",
       "<g clip-path=\"url(#clip7500)\">\n",
       "<text style=\"fill:#000000; fill-opacity:1; font-family:Arial,Helvetica Neue,Helvetica,sans-serif; font-size:38px; text-anchor:start;\" transform=\"rotate(0, 255.587, 752.767)\" x=\"255.587\" y=\"752.767\">5</text>\n",
       "</g>\n",
       "<g clip-path=\"url(#clip7500)\">\n",
       "<text style=\"fill:#000000; fill-opacity:1; font-family:Arial,Helvetica Neue,Helvetica,sans-serif; font-size:48px; text-anchor:start;\" transform=\"rotate(0, 107.046, 520.667)\" x=\"107.046\" y=\"520.667\">1.5×10</text>\n",
       "</g>\n",
       "<g clip-path=\"url(#clip7500)\">\n",
       "<text style=\"fill:#000000; fill-opacity:1; font-family:Arial,Helvetica Neue,Helvetica,sans-serif; font-size:38px; text-anchor:start;\" transform=\"rotate(0, 255.587, 493.256)\" x=\"255.587\" y=\"493.256\">5</text>\n",
       "</g>\n",
       "<g clip-path=\"url(#clip7500)\">\n",
       "<text style=\"fill:#000000; fill-opacity:1; font-family:Arial,Helvetica Neue,Helvetica,sans-serif; font-size:48px; text-anchor:start;\" transform=\"rotate(0, 107.046, 261.156)\" x=\"107.046\" y=\"261.156\">2.0×10</text>\n",
       "</g>\n",
       "<g clip-path=\"url(#clip7500)\">\n",
       "<text style=\"fill:#000000; fill-opacity:1; font-family:Arial,Helvetica Neue,Helvetica,sans-serif; font-size:38px; text-anchor:start;\" transform=\"rotate(0, 255.587, 233.746)\" x=\"255.587\" y=\"233.746\">5</text>\n",
       "</g>\n",
       "<g clip-path=\"url(#clip7500)\">\n",
       "<text style=\"fill:#000000; fill-opacity:1; font-family:Arial,Helvetica Neue,Helvetica,sans-serif; font-size:84px; text-anchor:middle;\" transform=\"rotate(0, 1080.04, 73.2)\" x=\"1080.04\" y=\"73.2\">Corona 2020</text>\n",
       "</g>\n",
       "<g clip-path=\"url(#clip7500)\">\n",
       "<text style=\"fill:#000000; fill-opacity:1; font-family:Arial,Helvetica Neue,Helvetica,sans-serif; font-size:84px; text-anchor:middle;\" transform=\"rotate(0, 1080.04, 163.92)\" x=\"1080.04\" y=\"163.92\">Confirmed Cases - Selected Countries</text>\n",
       "</g>\n",
       "<polyline clip-path=\"url(#clip7502)\" style=\"stroke:#009af9; stroke-width:4; stroke-opacity:1; fill:none\" points=\"\n",
       "  345.409,1275.47 361.734,1275.47 378.059,1275.47 394.384,1275.47 410.71,1275.47 427.035,1275.47 443.36,1275.47 459.685,1275.47 476.01,1275.47 492.335,1275.47 \n",
       "  508.66,1275.47 524.985,1275.47 541.31,1275.47 557.635,1275.47 573.96,1275.47 590.285,1275.47 606.61,1275.47 622.935,1275.47 639.261,1275.47 655.586,1275.47 \n",
       "  671.911,1275.47 688.236,1275.47 704.561,1275.47 720.886,1275.47 737.211,1275.47 753.536,1275.47 769.861,1275.47 786.186,1275.47 802.511,1275.47 818.836,1275.47 \n",
       "  835.161,1275.47 851.487,1275.47 867.812,1275.47 884.137,1275.47 900.462,1275.47 916.787,1275.47 933.112,1275.47 949.437,1275.47 965.762,1275.47 982.087,1275.46 \n",
       "  998.412,1275.43 1014.74,1275.4 1031.06,1275.35 1047.39,1275.21 1063.71,1274.9 1080.04,1274.59 1096.36,1274.43 1112.69,1274.23 1129.01,1274.08 1145.34,1273.84 \n",
       "  1161.66,1273.84 1177.99,1272.57 1194.31,1271.89 1210.64,1270.87 1226.96,1269.98 1243.29,1269.02 1259.61,1267.76 1275.94,1266.15 1292.26,1263.76 1308.59,1260.86 \n",
       "  1324.91,1257.82 1341.24,1255.79 1357.56,1253.31 1373.89,1249.85 1390.21,1243.11 1406.54,1237.66 1422.86,1228.06 1439.19,1219.23 1455.51,1213.71 1471.84,1209.17 \n",
       "  1488.16,1202.99 1504.49,1195.81 1520.81,1188.43 1537.14,1179.81 1553.46,1173.27 1569.79,1167.44 1586.11,1160.28 1602.44,1154 1618.77,1145.8 1635.09,1137.06 \n",
       "  1651.42,1130.05 1667.74,1121.6 1684.07,1116.71 1700.39,1113.96 1716.72,1101.22 1733.04,1094.8 1749.37,1087.91 1765.69,1082.48 1782.02,1075.67 1798.34,1067.95 \n",
       "  1814.67,1062.9 \n",
       "  \"/>\n",
       "<polyline clip-path=\"url(#clip7502)\" style=\"stroke:#e26f46; stroke-width:4; stroke-opacity:1; fill:none\" points=\"\n",
       "  345.409,1275.47 361.734,1275.47 378.059,1275.47 394.384,1275.47 410.71,1275.47 427.035,1275.47 443.36,1275.47 459.685,1275.47 476.01,1275.47 492.335,1275.47 \n",
       "  508.66,1275.47 524.985,1275.47 541.31,1275.47 557.635,1275.47 573.96,1275.47 590.285,1275.47 606.61,1275.47 622.935,1275.47 639.261,1275.47 655.586,1275.47 \n",
       "  671.911,1275.47 688.236,1275.47 704.561,1275.47 720.886,1275.47 737.211,1275.47 753.536,1275.47 769.861,1275.47 786.186,1275.47 802.511,1275.47 818.836,1275.47 \n",
       "  835.161,1275.47 851.487,1275.47 867.812,1275.47 884.137,1275.47 900.462,1275.47 916.787,1275.47 933.112,1275.47 949.437,1275.47 965.762,1275.46 982.087,1275.46 \n",
       "  998.412,1275.46 1014.74,1275.46 1031.06,1275.45 1047.39,1275.45 1063.71,1275.4 1080.04,1275.4 1096.36,1275.37 1112.69,1275.34 1129.01,1275.31 1145.34,1275.27 \n",
       "  1161.66,1275.2 1177.99,1274.69 1194.31,1274.69 1210.64,1274.63 1226.96,1274.43 1243.29,1273.8 1259.61,1273.54 1275.94,1272.25 1292.26,1271.35 1308.59,1270.17 \n",
       "  1324.91,1267.2 1341.24,1265.68 1357.56,1263.81 1373.89,1262.21 1390.21,1259.98 1406.54,1257.74 1422.86,1255.21 1439.19,1253.38 1455.51,1251.44 1471.84,1245.8 \n",
       "  1488.16,1239.76 1504.49,1233.72 1520.81,1227.75 1537.14,1221.7 1553.46,1217.06 1569.79,1212.24 1586.11,1202.63 1602.44,1191.45 1618.77,1181.29 1635.09,1172.76 \n",
       "  1651.42,1166.67 1667.74,1160.29 1684.07,1153.86 1700.39,1144.36 1716.72,1126.98 1733.04,1116.22 1749.37,1100.65 1765.69,1084.88 1782.02,1074.85 1798.34,1064.01 \n",
       "  1814.67,1051.88 \n",
       "  \"/>\n",
       "<polyline clip-path=\"url(#clip7502)\" style=\"stroke:#3da44d; stroke-width:4; stroke-opacity:1; fill:none\" points=\"\n",
       "  345.409,1275.47 361.734,1275.47 378.059,1275.47 394.384,1275.47 410.71,1275.47 427.035,1275.47 443.36,1275.47 459.685,1275.47 476.01,1275.47 492.335,1275.47 \n",
       "  508.66,1275.47 524.985,1275.47 541.31,1275.47 557.635,1275.47 573.96,1275.47 590.285,1275.47 606.61,1275.47 622.935,1275.47 639.261,1275.47 655.586,1275.47 \n",
       "  671.911,1275.47 688.236,1275.47 704.561,1275.47 720.886,1275.47 737.211,1275.47 753.536,1275.47 769.861,1275.47 786.186,1275.47 802.511,1275.47 818.836,1275.47 \n",
       "  835.161,1275.47 851.487,1275.47 867.812,1275.47 884.137,1275.47 900.462,1275.47 916.787,1275.47 933.112,1275.47 949.437,1275.44 965.762,1275.39 982.087,1275.37 \n",
       "  998.412,1275.34 1014.74,1275.3 1031.06,1275.18 1047.39,1275.02 1063.71,1274.91 1080.04,1274.71 1096.36,1274.56 1112.69,1274.41 1129.01,1273.39 1145.34,1272.37 \n",
       "  1161.66,1271.83 1177.99,1270.3 1194.31,1269.81 1210.64,1269.13 1226.96,1268.55 1243.29,1267.88 1259.61,1267.43 1275.94,1266.41 1292.26,1265.54 1308.59,1264.48 \n",
       "  1324.91,1263.1 1341.24,1261.98 1357.56,1260.6 1373.89,1259.46 1390.21,1257.97 1406.54,1255.9 1422.86,1254.63 1439.19,1253.24 1455.51,1252.4 1471.84,1251.38 \n",
       "  1488.16,1250.16 1504.49,1248.76 1520.81,1247.6 1537.14,1246.66 1553.46,1245.95 1569.79,1245.03 1586.11,1243.88 1602.44,1244.11 1618.77,1243.19 1635.09,1242.7 \n",
       "  1651.42,1242.21 1667.74,1241.6 1684.07,1241.2 1700.39,1241.1 1716.72,1240.19 1733.04,1239.63 1749.37,1239.47 1765.69,1238.95 1782.02,1238.73 1798.34,1238.33 \n",
       "  1814.67,1237.89 \n",
       "  \"/>\n",
       "<polyline clip-path=\"url(#clip7502)\" style=\"stroke:#c271d2; stroke-width:4; stroke-opacity:1; fill:none\" points=\"\n",
       "  345.409,1275.47 361.734,1275.47 378.059,1275.47 394.384,1275.47 410.71,1275.47 427.035,1275.47 443.36,1275.47 459.685,1275.47 476.01,1275.47 492.335,1275.47 \n",
       "  508.66,1275.47 524.985,1275.47 541.31,1275.47 557.635,1275.47 573.96,1275.47 590.285,1275.47 606.61,1275.47 622.935,1275.47 639.261,1275.46 655.586,1275.46 \n",
       "  671.911,1275.46 688.236,1275.46 704.561,1275.46 720.886,1275.46 737.211,1275.46 753.536,1275.46 769.861,1275.46 786.186,1275.46 802.511,1275.46 818.836,1275.46 \n",
       "  835.161,1275.46 851.487,1275.46 867.812,1275.46 884.137,1275.46 900.462,1275.44 916.787,1275.4 933.112,1275.39 949.437,1275.3 965.762,1275.24 982.087,1275.03 \n",
       "  998.412,1274.85 1014.74,1274.61 1031.06,1274.32 1047.39,1274.13 1063.71,1273.39 1080.04,1272.88 1096.36,1271.98 1112.69,1269.9 1129.01,1266.67 1145.34,1263.65 \n",
       "  1161.66,1263.65 1177.99,1248.32 1194.31,1242.3 1210.64,1235 1226.96,1223.87 1243.29,1214.5 1259.61,1203.27 1275.94,1182.24 1292.26,1169.54 1308.59,1143.77 \n",
       "  1324.91,1126.16 1341.24,1095.12 1357.56,1057.18 1373.89,1018.48 1390.21,975.549 1406.54,934.375 1422.86,895.365 1439.19,859.683 1455.51,818.96 1471.84,777.61 \n",
       "  1488.16,735.076 1504.49,693.83 1520.81,656.803 1537.14,620.632 1553.46,592.2 1569.79,566.099 1586.11,538.762 1602.44,506.178 1618.77,480.216 1635.09,454 \n",
       "  1651.42,429.326 1667.74,409.583 1684.07,392.621 1700.39,372.063 1716.72,337.812 1733.04,315.552 1749.37,284.976 1765.69,266.411 1782.02,244.311 1798.34,236.339 \n",
       "  1814.67,215.744 \n",
       "  \"/>\n",
       "<polyline clip-path=\"url(#clip7502)\" style=\"stroke:#ac8d18; stroke-width:4; stroke-opacity:1; fill:none\" points=\"\n",
       "  345.409,1275.47 361.734,1275.47 378.059,1275.47 394.384,1275.47 410.71,1275.47 427.035,1275.47 443.36,1275.47 459.685,1275.47 476.01,1275.47 492.335,1275.47 \n",
       "  508.66,1275.47 524.985,1275.47 541.31,1275.47 557.635,1275.47 573.96,1275.47 590.285,1275.47 606.61,1275.47 622.935,1275.47 639.261,1275.47 655.586,1275.47 \n",
       "  671.911,1275.47 688.236,1275.47 704.561,1275.47 720.886,1275.47 737.211,1275.47 753.536,1275.47 769.861,1275.47 786.186,1275.47 802.511,1275.47 818.836,1275.47 \n",
       "  835.161,1275.47 851.487,1275.47 867.812,1275.47 884.137,1275.47 900.462,1275.47 916.787,1275.46 933.112,1275.43 949.437,1275.43 965.762,1275.41 982.087,1275.4 \n",
       "  998.412,1275.39 1014.74,1275.36 1031.06,1275.29 1047.39,1274.98 1063.71,1274.95 1080.04,1274.63 1096.36,1274.42 1112.69,1274.18 1129.01,1273.63 1145.34,1272.88 \n",
       "  1161.66,1272.36 1177.99,1271.25 1194.31,1270.48 1210.64,1270.17 1226.96,1269.75 1243.29,1269.29 1259.61,1268.83 1275.94,1268 1292.26,1266.96 1308.59,1266.32 \n",
       "  1324.91,1265.43 1341.24,1264.58 1357.56,1263.54 1373.89,1262.36 1390.21,1260.73 1406.54,1259.54 1422.86,1257.58 1439.19,1256.27 1455.51,1254.56 1471.84,1252.45 \n",
       "  1488.16,1249.79 1504.49,1246.57 1520.81,1243.65 1537.14,1242.03 1553.46,1240.02 1569.79,1238.07 1586.11,1235.54 1602.44,1231.77 1618.77,1228.03 1635.09,1225.2 \n",
       "  1651.42,1222.78 1667.74,1221.06 1684.07,1218.65 1700.39,1216.07 1716.72,1213.57 1733.04,1210.39 1749.37,1206.88 1765.69,1203.73 1782.02,1200.81 1798.34,1198.77 \n",
       "  1814.67,1195.95 \n",
       "  \"/>\n",
       "<polyline clip-path=\"url(#clip7502)\" style=\"stroke:#00a9ad; stroke-width:4; stroke-opacity:1; fill:none\" points=\"\n",
       "  345.409,1275.46 361.734,1275.45 378.059,1275.44 394.384,1275.43 410.71,1275.43 427.035,1275.43 443.36,1275.4 459.685,1275.4 476.01,1275.4 492.335,1275.37 \n",
       "  508.66,1275.37 524.985,1275.37 541.31,1275.37 557.635,1275.34 573.96,1275.34 590.285,1275.34 606.61,1275.34 622.935,1275.3 639.261,1275.3 655.586,1275.3 \n",
       "  671.911,1275.3 688.236,1275.3 704.561,1275.3 720.886,1275.3 737.211,1275.3 753.536,1275.29 769.861,1275.29 786.186,1275.29 802.511,1275.29 818.836,1275.29 \n",
       "  835.161,1275.29 851.487,1275.29 867.812,1275.29 884.137,1275.29 900.462,1275.28 916.787,1275.26 933.112,1275.26 949.437,1275.26 965.762,1275.25 982.087,1275.25 \n",
       "  998.412,1275.25 1014.74,1275.25 1031.06,1275.25 1047.39,1275.23 1063.71,1275.22 1080.04,1275.21 1096.36,1275.21 1112.69,1275.21 1129.01,1275.2 1145.34,1275.16 \n",
       "  1161.66,1275.11 1177.99,1275.08 1194.31,1275.04 1210.64,1274.88 1226.96,1274.71 1243.29,1274.55 1259.61,1274.37 1275.94,1274.06 1292.26,1273.8 1308.59,1273.34 \n",
       "  1324.91,1272.36 1341.24,1271.83 1357.56,1271.18 1373.89,1270.62 1390.21,1270.05 1406.54,1269.57 1422.86,1269.01 1439.19,1268.27 1455.51,1267.56 1471.84,1266.9 \n",
       "  1488.16,1266.28 1504.49,1265.74 1520.81,1265.2 1537.14,1264.74 1553.46,1264.21 1569.79,1263.95 1586.11,1263.75 1602.44,1263.17 1618.77,1262.89 1635.09,1262.63 \n",
       "  1651.42,1262.4 1667.74,1262.23 1684.07,1262.08 1700.39,1261.91 1716.72,1261.75 1733.04,1261.6 1749.37,1261.46 1765.69,1261.29 1782.02,1261.12 1798.34,1260.98 \n",
       "  1814.67,1260.88 \n",
       "  \"/>\n",
       "<path clip-path=\"url(#clip7500)\" d=\"\n",
       "M1930.74 690.832 L2376.76 690.832 L2376.76 267.472 L1930.74 267.472  Z\n",
       "  \" fill=\"#ffffff\" fill-rule=\"evenodd\" fill-opacity=\"1\"/>\n",
       "<polyline clip-path=\"url(#clip7500)\" style=\"stroke:#000000; stroke-width:4; stroke-opacity:1; fill:none\" points=\"\n",
       "  1930.74,690.832 2376.76,690.832 2376.76,267.472 1930.74,267.472 1930.74,690.832 \n",
       "  \"/>\n",
       "<polyline clip-path=\"url(#clip7500)\" style=\"stroke:#009af9; stroke-width:4; stroke-opacity:1; fill:none\" points=\"\n",
       "  1954.74,327.952 2098.74,327.952 \n",
       "  \"/>\n",
       "<g clip-path=\"url(#clip7500)\">\n",
       "<text style=\"fill:#000000; fill-opacity:1; font-family:Arial,Helvetica Neue,Helvetica,sans-serif; font-size:48px; text-anchor:start;\" transform=\"rotate(0, 2122.74, 345.452)\" x=\"2122.74\" y=\"345.452\">Argentina</text>\n",
       "</g>\n",
       "<polyline clip-path=\"url(#clip7500)\" style=\"stroke:#e26f46; stroke-width:4; stroke-opacity:1; fill:none\" points=\"\n",
       "  1954.74,388.432 2098.74,388.432 \n",
       "  \"/>\n",
       "<g clip-path=\"url(#clip7500)\">\n",
       "<text style=\"fill:#000000; fill-opacity:1; font-family:Arial,Helvetica Neue,Helvetica,sans-serif; font-size:48px; text-anchor:start;\" transform=\"rotate(0, 2122.74, 405.932)\" x=\"2122.74\" y=\"405.932\">Belgium</text>\n",
       "</g>\n",
       "<polyline clip-path=\"url(#clip7500)\" style=\"stroke:#3da44d; stroke-width:4; stroke-opacity:1; fill:none\" points=\"\n",
       "  1954.74,448.912 2098.74,448.912 \n",
       "  \"/>\n",
       "<g clip-path=\"url(#clip7500)\">\n",
       "<text style=\"fill:#000000; fill-opacity:1; font-family:Arial,Helvetica Neue,Helvetica,sans-serif; font-size:48px; text-anchor:start;\" transform=\"rotate(0, 2122.74, 466.412)\" x=\"2122.74\" y=\"466.412\">Brazil</text>\n",
       "</g>\n",
       "<polyline clip-path=\"url(#clip7500)\" style=\"stroke:#c271d2; stroke-width:4; stroke-opacity:1; fill:none\" points=\"\n",
       "  1954.74,509.392 2098.74,509.392 \n",
       "  \"/>\n",
       "<g clip-path=\"url(#clip7500)\">\n",
       "<text style=\"fill:#000000; fill-opacity:1; font-family:Arial,Helvetica Neue,Helvetica,sans-serif; font-size:48px; text-anchor:start;\" transform=\"rotate(0, 2122.74, 526.892)\" x=\"2122.74\" y=\"526.892\">Norway</text>\n",
       "</g>\n",
       "<polyline clip-path=\"url(#clip7500)\" style=\"stroke:#ac8d18; stroke-width:4; stroke-opacity:1; fill:none\" points=\"\n",
       "  1954.74,569.872 2098.74,569.872 \n",
       "  \"/>\n",
       "<g clip-path=\"url(#clip7500)\">\n",
       "<text style=\"fill:#000000; fill-opacity:1; font-family:Arial,Helvetica Neue,Helvetica,sans-serif; font-size:48px; text-anchor:start;\" transform=\"rotate(0, 2122.74, 587.372)\" x=\"2122.74\" y=\"587.372\">Spain</text>\n",
       "</g>\n",
       "<polyline clip-path=\"url(#clip7500)\" style=\"stroke:#00a9ad; stroke-width:4; stroke-opacity:1; fill:none\" points=\"\n",
       "  1954.74,630.352 2098.74,630.352 \n",
       "  \"/>\n",
       "<g clip-path=\"url(#clip7500)\">\n",
       "<text style=\"fill:#000000; fill-opacity:1; font-family:Arial,Helvetica Neue,Helvetica,sans-serif; font-size:48px; text-anchor:start;\" transform=\"rotate(0, 2122.74, 647.852)\" x=\"2122.74\" y=\"647.852\">Sweden</text>\n",
       "</g>\n",
       "</svg>\n"
      ]
     },
     "execution_count": 76,
     "metadata": {},
     "output_type": "execute_result"
    }
   ],
   "source": [
    "plot(df_cfm[:,1], cfm[:,2:end],\n",
    "     label = clist,\n",
    "     legend=:outertopright, xrotation=45,\n",
    "     title = \"Corona 2020\\nConfirmed Cases - Selected Countries\")\n"
   ]
  },
  {
   "cell_type": "code",
   "execution_count": 77,
   "metadata": {},
   "outputs": [],
   "source": [
    "savefig(\"cfm_01.png\") "
   ]
  },
  {
   "cell_type": "code",
   "execution_count": null,
   "metadata": {},
   "outputs": [],
   "source": []
  }
 ],
 "metadata": {
  "kernelspec": {
   "display_name": "Julia 1.0.3",
   "language": "julia",
   "name": "julia-1.0"
  },
  "language_info": {
   "file_extension": ".jl",
   "mimetype": "application/julia",
   "name": "julia",
   "version": "1.0.3"
  }
 },
 "nbformat": 4,
 "nbformat_minor": 2
}
